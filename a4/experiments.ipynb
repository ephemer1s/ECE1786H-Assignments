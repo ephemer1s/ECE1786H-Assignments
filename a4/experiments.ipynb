{
 "cells": [
  {
   "cell_type": "code",
   "execution_count": null,
   "metadata": {},
   "outputs": [],
   "source": []
  }
 ],
 "metadata": {
  "kernelspec": {
   "display_name": "Python 3.7.13 ('ece1786')",
   "language": "python",
   "name": "python3"
  },
  "language_info": {
   "name": "python",
   "version": "3.7.13"
  },
  "orig_nbformat": 4,
  "vscode": {
   "interpreter": {
    "hash": "c0fe91e64f7fa0cf5b9a57b90bef6878a877de0a8b504aef95f38ef805624fb0"
   }
  }
 },
 "nbformat": 4,
 "nbformat_minor": 2
}
