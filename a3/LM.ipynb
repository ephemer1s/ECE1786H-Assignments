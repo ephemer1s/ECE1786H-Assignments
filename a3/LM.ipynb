{
 "cells": [
  {
   "cell_type": "markdown",
   "metadata": {},
   "source": [
    "# Assignment 3 Top-Level Code/Notebook\n",
    "### Training a language model base on Karpathy's minGPT codebase\n"
   ]
  },
  {
   "cell_type": "code",
   "execution_count": 1,
   "metadata": {},
   "outputs": [
    {
     "data": {
      "text/plain": [
       "\" \\nimport nltk\\nnltk.download('punkt')\\n\""
      ]
     },
     "execution_count": 1,
     "metadata": {},
     "output_type": "execute_result"
    }
   ],
   "source": [
    "# The code below is needed for using Google Colab, so un comment this if that is what you're using\n",
    "\"\"\" \n",
    "import nltk\n",
    "nltk.download('punkt')\n",
    "\"\"\""
   ]
  },
  {
   "cell_type": "code",
   "execution_count": 2,
   "metadata": {},
   "outputs": [
    {
     "data": {
      "text/plain": [
       "\"\\nfrom google.colab import drive\\ndrive.mount('/content/drive')\\n%cd /content/drive/MyDrive/Colab\\\\ Notebooks/\\n\""
      ]
     },
     "execution_count": 2,
     "metadata": {},
     "output_type": "execute_result"
    }
   ],
   "source": [
    "# The code below is also needed for using Google Colab\n",
    "# BEFORE executing this, you must place the mingpt folder supplied in the assignment\n",
    "# your google drive, within the folder \"Colab Notebooks\"\n",
    "#\n",
    "# It mounts and changes into the folder that contains mingpt, which you must upload to google drive\n",
    "# So un-comment it if you've uploaded mingpt to your google drive, into the  \"Colab Notebooks\" folder\n",
    "\"\"\"\n",
    "from google.colab import drive\n",
    "drive.mount('/content/drive')\n",
    "%cd /content/drive/MyDrive/Colab\\ Notebooks/\n",
    "\"\"\" "
   ]
  },
  {
   "cell_type": "code",
   "execution_count": 3,
   "metadata": {},
   "outputs": [],
   "source": [
    "import torch \n",
    "import numpy as np\n",
    "\n",
    "from nltk.tokenize import sent_tokenize \n",
    "\n",
    "from pathlib import Path \n",
    "from sklearn.model_selection import train_test_split\n",
    "from torch.utils.data import Dataset\n",
    "from torch.utils.data.dataloader import DataLoader\n",
    "from mingpt.bpe import BPETokenizer \n",
    "from mingpt.utils import set_seed \n",
    "set_seed(1234)"
   ]
  },
  {
   "cell_type": "code",
   "execution_count": 4,
   "metadata": {},
   "outputs": [],
   "source": [
    "\"\"\"\n",
    "Prepare the dataset to train the Language Model (LM)\n",
    "This implementation splits the sentences and so doesn't create training \n",
    "examples that cross sentences.\n",
    "\n",
    "This code is set so that it uses one of two possible datasets, which were also used in Assignment 1: \n",
    "SmallSimpleCorpus.txt or LargerCorpus.txt\n",
    "\n",
    "Arguments:\n",
    "            ds_choice: str. \"small\" or \"large\". (i.e. selects which of the two datasets)\n",
    "            split: str. \"train\" or \"test\".\n",
    "            truncation: int. If -1: no truncation on sentences. Otherwise: truncate to this specific length.\n",
    "\"\"\" \n",
    "\n",
    "class LanguageModelingDataset(Dataset):\n",
    "    \n",
    "    def __init__(self, ds_choice=\"small\", split=\"train\", truncation=-1):\n",
    "        \n",
    "        base_path = \"./\"\n",
    "        fn = {\"small\": \"SmallSimpleCorpus.txt\", \"large\": \"LargerCorpus.txt\"}\n",
    "        self.ds_choice = ds_choice\n",
    "        self.truncation = truncation  # int. If -1, then\n",
    "        text = Path(base_path, fn[ds_choice]).read_text()\n",
    "        if ds_choice == \"large\":\n",
    "            # Remove the newline char in the middle of sentences\n",
    "            # The \"paragraph splitting\" newlines appear to be \\n\\n -- remove the duplications there\n",
    "            text = text.replace(\"\\n\\n\", \"$$^^$$\").replace(\"\\n\", \" \").replace(\"$$^^$$\", \"\\n\")\n",
    "        sentences = sent_tokenize(text)\n",
    "\n",
    "        # Train / test split\n",
    "        train, val = train_test_split(sentences, test_size=0.2, shuffle=False)\n",
    "        if split == \"train\":\n",
    "            raw_data = train \n",
    "        else:\n",
    "            raw_data = val \n",
    "\n",
    "        # Tokenize\n",
    "        self.tokenizer = BPETokenizer()\n",
    "        self.data = []  # List of 1-d pytorch tensor\n",
    "        for sent in raw_data:\n",
    "            tokenized = self.tokenizer(sent).view(-1)  # pytorch tensor\n",
    "            if truncation >= 0:\n",
    "                self.data.append(tokenized[:truncation])\n",
    "            else:\n",
    "                self.data.append(tokenized)\n",
    "\n",
    "        # Count some items\n",
    "        self.max_sentence_length = np.max([len(d) for d in self.data])\n",
    "\n",
    "    def __len__(self):\n",
    "        return len(self.data)\n",
    "\n",
    "    def get_vocab_size(self):\n",
    "        \"\"\"\n",
    "        We have to set this to the max vocab size (i.e., that decided by the BPE tokenizer), \n",
    "        but actually, only a small number of vocab is used, especially for the small text. \n",
    "        \"\"\"\n",
    "        return 50257\n",
    "\n",
    "    def __getitem__(self, idx):\n",
    "        \"\"\"\n",
    "        The output should be a tuple x and y, both as pytorch tensors.\n",
    "        Please refer to the `run()` method in the mingpt/trainer.py script for \n",
    "        how the x and y are going to be used.\n",
    "        \"\"\"\n",
    "        x = self.data[idx][:-1]\n",
    "        y = self.data[idx][1:]\n",
    "        return (x, y)\n",
    "\n",
    "    def get_block_size(self):\n",
    "        \"\"\"\n",
    "        block_size is the size at which lines are truncated to ensure they are equal-length.\n",
    "        \"\"\"\n",
    "        return self.max_sentence_length\n",
    "    \n",
    "# Instantiate the Training Dataset\n",
    "train_dataset = LanguageModelingDataset(ds_choice=\"small\", split=\"train\")  # use this for the short corpus\n",
    "#train_dataset = LanguageModelingDataset(ds_choice=\"large\", split=\"train\", truncation=512) #use this for long\n",
    "\n",
    "# Instantiate a Validation Dataset (this is only really needed for the fine-tune task, not the LM task)\n",
    "val_dataset = LanguageModelingDataset(ds_choice=\"small\", split=\"validation\")\n",
    "#val_dataset = LanguageModelingDataset(ds_choice=\"large\", split=\"validation\", truncation=512)"
   ]
  },
  {
   "cell_type": "code",
   "execution_count": 5,
   "metadata": {},
   "outputs": [],
   "source": [
    "def lm_collate_fn(batch, device):\n",
    "    x = [item[0] for item in batch]  # List (len B) of varying lengths\n",
    "    y = [item[1] for item in batch]  # List (len B) of the same lengths as x\n",
    "    maxlen = max([len(s) for s in x])\n",
    "\n",
    "    padded_x, padded_y = [], []\n",
    "    for sx, sy in zip(x, y):\n",
    "        padded_x.append(torch.cat([sx, torch.ones(maxlen - len(sx))]))\n",
    "        padded_y.append(torch.cat([sy, torch.ones(maxlen - len(sy))]))\n",
    "    return torch.stack(padded_x).long().to(device), torch.stack(padded_y).long().to(device)\n"
   ]
  },
  {
   "cell_type": "code",
   "execution_count": 6,
   "metadata": {},
   "outputs": [
    {
     "name": "stdout",
     "output_type": "stream",
     "text": [
      "tensor([  40, 6437,  262, 3290]) tensor([6437,  262, 3290,   13])\n",
      "X:  I rub the dog\n",
      "Y:   rub the dog.\n"
     ]
    }
   ],
   "source": [
    "# Print out an example of the data - this is processed more once it reaches lm_collate_fn (above)\n",
    "x,y = train_dataset[5]\n",
    "print(x, y)\n",
    "print(\"X: \",train_dataset.tokenizer.decode(x))\n",
    "print(\"Y: \",train_dataset.tokenizer.decode(y))"
   ]
  },
  {
   "cell_type": "code",
   "execution_count": 7,
   "metadata": {},
   "outputs": [
    {
     "name": "stdout",
     "output_type": "stream",
     "text": [
      "number of parameters: 2.50M\n"
     ]
    }
   ],
   "source": [
    "from mingpt.model import GPT\n",
    "\n",
    "model_config = GPT.get_default_config()\n",
    "model_config.model_type = 'gpt-nano'\n",
    "model_config.vocab_size = train_dataset.get_vocab_size()\n",
    "model_config.block_size = train_dataset.get_block_size()\n",
    "model_config.n_classification_class = 2\n",
    "model = GPT(model_config)"
   ]
  },
  {
   "cell_type": "code",
   "execution_count": 8,
   "metadata": {},
   "outputs": [
    {
     "name": "stdout",
     "output_type": "stream",
     "text": [
      "running on device cpu\n"
     ]
    }
   ],
   "source": [
    "# Create a Trainer object and set the core hyper-parameters\n",
    "from mingpt.trainer import Trainer\n",
    "\n",
    "train_config = Trainer.get_default_config()\n",
    "train_config.learning_rate = 5e-4 # the model we're using is so small that we can go a bit faster\n",
    "train_config.max_iters = 3000  # For small corpus: 3000 iterations is plenty. For large corpus: 100000 iterations is needed\n",
    "train_config.num_workers = 0\n",
    "train_config.batch_size = 4    # For small corpus, batch size of 4 is fine.  For large corpus use 16\n",
    "trainer = Trainer(train_config, model, train_dataset, val_dataset, collate_fn=lm_collate_fn)"
   ]
  },
  {
   "cell_type": "code",
   "execution_count": 9,
   "metadata": {},
   "outputs": [
    {
     "name": "stdout",
     "output_type": "stream",
     "text": [
      "iter_dt 0.00ms; iter 0: train loss 10.82099\n",
      "iter_dt 38.56ms; iter 100: train loss 5.97739\n",
      "iter_dt 37.61ms; iter 200: train loss 2.52467\n",
      "iter_dt 36.24ms; iter 300: train loss 1.45734\n",
      "iter_dt 37.96ms; iter 400: train loss 0.82555\n",
      "iter_dt 37.67ms; iter 500: train loss 0.81646\n",
      "iter_dt 38.19ms; iter 600: train loss 0.79090\n",
      "iter_dt 37.52ms; iter 700: train loss 0.67038\n",
      "iter_dt 37.53ms; iter 800: train loss 0.66822\n",
      "iter_dt 37.75ms; iter 900: train loss 0.56715\n",
      "iter_dt 38.29ms; iter 1000: train loss 0.59438\n",
      "iter_dt 37.78ms; iter 1100: train loss 0.76046\n",
      "iter_dt 34.85ms; iter 1200: train loss 0.58739\n",
      "iter_dt 37.26ms; iter 1300: train loss 0.59170\n",
      "iter_dt 37.45ms; iter 1400: train loss 0.62839\n",
      "iter_dt 37.51ms; iter 1500: train loss 0.66044\n",
      "iter_dt 37.31ms; iter 1600: train loss 0.70982\n",
      "iter_dt 37.72ms; iter 1700: train loss 0.75451\n",
      "iter_dt 37.38ms; iter 1800: train loss 0.59662\n",
      "iter_dt 38.26ms; iter 1900: train loss 0.59755\n",
      "iter_dt 36.50ms; iter 2000: train loss 0.58447\n",
      "iter_dt 37.34ms; iter 2100: train loss 0.58511\n",
      "iter_dt 38.06ms; iter 2200: train loss 0.71029\n",
      "iter_dt 37.53ms; iter 2300: train loss 0.58380\n",
      "iter_dt 36.04ms; iter 2400: train loss 0.62196\n",
      "iter_dt 37.70ms; iter 2500: train loss 0.62588\n",
      "iter_dt 37.16ms; iter 2600: train loss 0.64252\n",
      "iter_dt 37.49ms; iter 2700: train loss 0.74261\n",
      "iter_dt 34.60ms; iter 2800: train loss 0.65660\n",
      "iter_dt 38.53ms; iter 2900: train loss 0.68115\n"
     ]
    }
   ],
   "source": [
    "# This function is called at the end of every batch in training\n",
    "# and is used to report the amount of time per 100 batches, and the loss at that point\n",
    "\n",
    "def batch_end_callback(trainer):\n",
    "    if trainer.iter_num % 100 == 0:\n",
    "        print(f\"iter_dt {trainer.iter_dt * 1000:.2f}ms; iter {trainer.iter_num}: train loss {trainer.loss.item():.5f}\")\n",
    "trainer.set_callback('on_batch_end', batch_end_callback)\n",
    "\n",
    "# Train!\n",
    "trainer.run()"
   ]
  },
  {
   "cell_type": "code",
   "execution_count": 10,
   "metadata": {},
   "outputs": [],
   "source": [
    "model.to(trainer.device)\n",
    "# store the saved model in a file, so can re-use later\n",
    "modelsavename= \"model_filename.pt\"  # change the name here to save in a specific file (and restore below)\n",
    "with open(modelsavename, \"wb\") as f:\n",
    "    torch.save(trainer.model.state_dict(), f)"
   ]
  },
  {
   "cell_type": "code",
   "execution_count": 12,
   "metadata": {},
   "outputs": [
    {
     "data": {
      "text/plain": [
       "'He and I can hold a dog. cat. cat and dog'"
      ]
     },
     "execution_count": 12,
     "metadata": {},
     "output_type": "execute_result"
    }
   ],
   "source": [
    "# Use the trained language model to predict a sequence of words following a few words\n",
    "encoded_prompt = train_dataset.tokenizer(\"He and I\").to(trainer.device)\n",
    "generated_sequence = trainer.model.generate(encoded_prompt, trainer.device, temperature=0.8, max_new_tokens=10)\n",
    "train_dataset.tokenizer.decode(generated_sequence[0])"
   ]
  },
  {
   "cell_type": "code",
   "execution_count": 13,
   "metadata": {},
   "outputs": [
    {
     "data": {
      "text/plain": [
       "'She rubs a dog and cat. cat. cat. cat'"
      ]
     },
     "execution_count": 13,
     "metadata": {},
     "output_type": "execute_result"
    }
   ],
   "source": [
    "# Another example\n",
    "encoded_prompt = train_dataset.tokenizer(\"She rubs\").to(trainer.device)\n",
    "generated_sequence = trainer.model.generate(encoded_prompt, trainer.device, temperature=0.6, max_new_tokens=10)\n",
    "train_dataset.tokenizer.decode(generated_sequence[0])"
   ]
  },
  {
   "cell_type": "code",
   "execution_count": 14,
   "metadata": {},
   "outputs": [
    {
     "data": {
      "text/plain": [
       "<All keys matched successfully>"
      ]
     },
     "execution_count": 14,
     "metadata": {},
     "output_type": "execute_result"
    }
   ],
   "source": [
    "# The code below shows how to reload the model from the saved file; is useful things that take long to train\n",
    "model.load_state_dict(torch.load(modelsavename))"
   ]
  },
  {
   "cell_type": "code",
   "execution_count": 15,
   "metadata": {},
   "outputs": [
    {
     "data": {
      "text/plain": [
       "'She rubs a cat and dog. dog. cat. cat'"
      ]
     },
     "execution_count": 15,
     "metadata": {},
     "output_type": "execute_result"
    }
   ],
   "source": [
    "# Example showing how the reloaded model still works\n",
    "encoded_prompt = train_dataset.tokenizer(\"She rubs\").to(trainer.device)\n",
    "generated_sequence = trainer.model.generate(encoded_prompt, trainer.device, temperature=0.6, max_new_tokens=10)\n",
    "train_dataset.tokenizer.decode(generated_sequence[0])"
   ]
  },
  {
   "cell_type": "code",
   "execution_count": null,
   "metadata": {},
   "outputs": [],
   "source": []
  }
 ],
 "metadata": {
  "kernelspec": {
   "display_name": "Python 3 (ipykernel)",
   "language": "python",
   "name": "python3"
  },
  "language_info": {
   "codemirror_mode": {
    "name": "ipython",
    "version": 3
   },
   "file_extension": ".py",
   "mimetype": "text/x-python",
   "name": "python",
   "nbconvert_exporter": "python",
   "pygments_lexer": "ipython3",
   "version": "3.7.13"
  },
  "vscode": {
   "interpreter": {
    "hash": "3c245645368b405f9e41f3dedb59d0df7c5d5feced548513488e8eb3fe8134cb"
   }
  }
 },
 "nbformat": 4,
 "nbformat_minor": 2
}
